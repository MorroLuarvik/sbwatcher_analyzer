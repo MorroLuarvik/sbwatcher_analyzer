{
 "metadata": {
  "language_info": {
   "codemirror_mode": {
    "name": "ipython",
    "version": 3
   },
   "file_extension": ".py",
   "mimetype": "text/x-python",
   "name": "python",
   "nbconvert_exporter": "python",
   "pygments_lexer": "ipython3",
   "version": "3.8.1-final"
  },
  "orig_nbformat": 2,
  "kernelspec": {
   "name": "Python 3.8.1 64-bit",
   "display_name": "Python 3.8.1 64-bit",
   "metadata": {
    "interpreter": {
     "hash": "1baa965d5efe3ac65b79dfc60c0d706280b1da80fedb7760faf2759126c4f253"
    }
   }
  }
 },
 "nbformat": 4,
 "nbformat_minor": 2,
 "cells": [
  {
   "cell_type": "code",
   "execution_count": null,
   "metadata": {},
   "outputs": [],
   "source": [
    "CONFIG_FILE_NAME = 'sbwatcher.json'\n",
    "CONFIG_FOLDER_NAME = 'configs'\n",
    "\n",
    "import os\n",
    "import json\n",
    "import datetime\n",
    "\n",
    "from mysql import connector as connector\n",
    "\n",
    "%matplotlib inline\n",
    "import matplotlib.pyplot as plt\n",
    "\n",
    "dirName, _ = os.path.split(os.path.abspath(''))\n",
    "config_file_path = dirName + os.path.sep + os.path.sep + CONFIG_FOLDER_NAME + os.path.sep + CONFIG_FILE_NAME\n",
    "\n",
    "config_file = open(config_file_path, 'r+')\n",
    "configs = json.load(config_file)\n",
    "config_file.close()\n",
    "\n",
    "connect = connector.connect(**configs['mysql'])"
   ]
  },
  {
   "cell_type": "code",
   "execution_count": null,
   "metadata": {},
   "outputs": [],
   "source": [
    "start_date = datetime.datetime.strptime('2020.3.1', '%Y.%m.%d')\n",
    "end_date = datetime.datetime.strptime('2020.4.30', '%Y.%m.%d')"
   ]
  },
  {
   "cell_type": "code",
   "execution_count": null,
   "metadata": {},
   "outputs": [],
   "source": [
    "query = \"\"\"\n",
    "SELECT buy_price, sell_price, event_ts \n",
    "FROM f_rates WHERE fin_id = 1 and event_ts BETWEEN {0} AND {1} ORDER BY event_ts;\n",
    "\"\"\".format(start_date.timestamp(), end_date.timestamp())\n",
    "\n",
    "cursor = connect.cursor(dictionary=True)\n",
    "cursor.execute(query) \n",
    "rates = cursor.fetchall()"
   ]
  },
  {
   "cell_type": "code",
   "execution_count": null,
   "metadata": {},
   "outputs": [],
   "source": [
    "from analyzer import Analyzer\n",
    "\n",
    "analyz = Analyzer(rates)"
   ]
  },
  {
   "cell_type": "code",
   "execution_count": null,
   "metadata": {
    "tags": []
   },
   "outputs": [],
   "source": [
    "fig, ax1 = plt.subplots(figsize=(30, 6))\n",
    "\n",
    "ax1.fill(\n",
    "    *analyz.get_spreads(),\n",
    "    color = 'green', \n",
    "    alpha = 0.25\n",
    ")\n",
    "\n",
    "ax2 = ax1.twinx()\n",
    "\n",
    "ax2.plot( *analyz.get_sells())\n",
    "ax2.plot( *analyz.get_buys() )\n",
    "\n",
    "\n",
    "plt.show()"
   ]
  }
 ]
}