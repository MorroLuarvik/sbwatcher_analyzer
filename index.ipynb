{
 "metadata": {
  "language_info": {
   "codemirror_mode": {
    "name": "ipython",
    "version": 3
   },
   "file_extension": ".py",
   "mimetype": "text/x-python",
   "name": "python",
   "nbconvert_exporter": "python",
   "pygments_lexer": "ipython3",
   "version": "3.8.1-final"
  },
  "orig_nbformat": 2,
  "kernelspec": {
   "name": "Python 3.8.1 64-bit",
   "display_name": "Python 3.8.1 64-bit",
   "metadata": {
    "interpreter": {
     "hash": "1baa965d5efe3ac65b79dfc60c0d706280b1da80fedb7760faf2759126c4f253"
    }
   }
  }
 },
 "nbformat": 4,
 "nbformat_minor": 2,
 "cells": [
  {
   "cell_type": "code",
   "execution_count": null,
   "metadata": {},
   "outputs": [],
   "source": [
    "CONFIG_FILE_NAME = 'sbwatcher.json'\n",
    "CONFIG_FOLDER_NAME = 'configs'\n",
    "\n",
    "import os\n",
    "import json\n",
    "import datetime\n",
    "\n",
    "from mysql import connector as connector\n",
    "\n",
    "import matplotlib.pyplot as plt\n",
    "#import pandas as pd\n",
    "\n",
    "dirName, _ = os.path.split(os.path.abspath(''))\n",
    "config_file_path = dirName + os.path.sep + os.path.sep + CONFIG_FOLDER_NAME + os.path.sep + CONFIG_FILE_NAME\n",
    "\n",
    "config_file = open(config_file_path, 'r+')\n",
    "configs = json.load(config_file)\n",
    "config_file.close()\n",
    "\n",
    "connect = connector.connect(**configs['mysql'])"
   ]
  },
  {
   "cell_type": "code",
   "execution_count": null,
   "metadata": {},
   "outputs": [],
   "source": [
    "start_date = datetime.datetime.strptime('2020.1.1', '%Y.%m.%d')\n",
    "end_date = datetime.datetime.strptime('2020.10.31', '%Y.%m.%d')"
   ]
  },
  {
   "cell_type": "code",
   "execution_count": null,
   "metadata": {},
   "outputs": [],
   "source": [
    "query = \"\"\"\n",
    "SELECT buy_price, sell_price, event_ts \n",
    "FROM f_rates WHERE fin_id = 1 and event_ts BETWEEN {0} AND {1} ORDER BY event_ts;\n",
    "\"\"\".format(start_date.timestamp(), end_date.timestamp())\n",
    "\n",
    "#print(datetime.datetime.fromtimestamp(start_date.timestamp()))\n",
    "#print(datetime.datetime.fromtimestamp(end_date.timestamp()))\n",
    "\n",
    "cursor = connect.cursor(dictionary=True)\n",
    "cursor.execute(query) \n",
    "rates = cursor.fetchall()\n",
    "print( datetime.datetime.fromtimestamp(rates[0]['event_ts']) )\n",
    "print( datetime.datetime.fromtimestamp(rates[-1]['event_ts']) )\n"
   ]
  },
  {
   "cell_type": "code",
   "execution_count": null,
   "metadata": {},
   "outputs": [],
   "source": [
    "r_range = [datetime.datetime.fromtimestamp(item['event_ts']) for item in rates]\n",
    "\n",
    "print(r_range[0])\n",
    "print(r_range[-1])\n",
    "\n",
    "plt.figure(figsize=(30, 6))\n",
    "#plt.xticks(rotation = 90)\n",
    "\n",
    "plt.plot(\n",
    "    r_range, \n",
    "    [item['sell_price'] for item in rates],\n",
    "    )\n",
    "plt.plot(\n",
    "    r_range, \n",
    "    [item['buy_price'] for item in rates]\n",
    "    )\n",
    "plt.show()"
   ]
  }
 ]
}